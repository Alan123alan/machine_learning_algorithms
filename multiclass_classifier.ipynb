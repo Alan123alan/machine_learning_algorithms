{
  "nbformat": 4,
  "nbformat_minor": 0,
  "metadata": {
    "colab": {
      "provenance": []
    },
    "kernelspec": {
      "name": "python3",
      "display_name": "Python 3"
    },
    "language_info": {
      "name": "python"
    }
  },
  "cells": [
    {
      "cell_type": "code",
      "execution_count": 1,
      "metadata": {
        "id": "tcFQtFsg0xRM"
      },
      "outputs": [],
      "source": [
        "import numpy as np\n",
        "import pandas as pd"
      ]
    },
    {
      "cell_type": "code",
      "source": [
        "mnist_df = pd.read_csv(\"/content/sample_data/mnist_train_small.csv\")"
      ],
      "metadata": {
        "id": "lvNtmXAe2GWW"
      },
      "execution_count": 2,
      "outputs": []
    },
    {
      "cell_type": "code",
      "source": [
        "mnist_df.head()"
      ],
      "metadata": {
        "colab": {
          "base_uri": "https://localhost:8080/",
          "height": 236
        },
        "id": "bf2z7cVw2TTM",
        "outputId": "26e176b6-659a-402b-82a8-567ade37ec69"
      },
      "execution_count": 3,
      "outputs": [
        {
          "output_type": "execute_result",
          "data": {
            "text/plain": [
              "   6  0  0.1  0.2  0.3  0.4  0.5  0.6  0.7  0.8  ...  0.581  0.582  0.583  \\\n",
              "0  5  0    0    0    0    0    0    0    0    0  ...      0      0      0   \n",
              "1  7  0    0    0    0    0    0    0    0    0  ...      0      0      0   \n",
              "2  9  0    0    0    0    0    0    0    0    0  ...      0      0      0   \n",
              "3  5  0    0    0    0    0    0    0    0    0  ...      0      0      0   \n",
              "4  2  0    0    0    0    0    0    0    0    0  ...      0      0      0   \n",
              "\n",
              "   0.584  0.585  0.586  0.587  0.588  0.589  0.590  \n",
              "0      0      0      0      0      0      0      0  \n",
              "1      0      0      0      0      0      0      0  \n",
              "2      0      0      0      0      0      0      0  \n",
              "3      0      0      0      0      0      0      0  \n",
              "4      0      0      0      0      0      0      0  \n",
              "\n",
              "[5 rows x 785 columns]"
            ],
            "text/html": [
              "\n",
              "  <div id=\"df-77c3ba4a-efbe-4d6a-9170-14b741b7ba9e\" class=\"colab-df-container\">\n",
              "    <div>\n",
              "<style scoped>\n",
              "    .dataframe tbody tr th:only-of-type {\n",
              "        vertical-align: middle;\n",
              "    }\n",
              "\n",
              "    .dataframe tbody tr th {\n",
              "        vertical-align: top;\n",
              "    }\n",
              "\n",
              "    .dataframe thead th {\n",
              "        text-align: right;\n",
              "    }\n",
              "</style>\n",
              "<table border=\"1\" class=\"dataframe\">\n",
              "  <thead>\n",
              "    <tr style=\"text-align: right;\">\n",
              "      <th></th>\n",
              "      <th>6</th>\n",
              "      <th>0</th>\n",
              "      <th>0.1</th>\n",
              "      <th>0.2</th>\n",
              "      <th>0.3</th>\n",
              "      <th>0.4</th>\n",
              "      <th>0.5</th>\n",
              "      <th>0.6</th>\n",
              "      <th>0.7</th>\n",
              "      <th>0.8</th>\n",
              "      <th>...</th>\n",
              "      <th>0.581</th>\n",
              "      <th>0.582</th>\n",
              "      <th>0.583</th>\n",
              "      <th>0.584</th>\n",
              "      <th>0.585</th>\n",
              "      <th>0.586</th>\n",
              "      <th>0.587</th>\n",
              "      <th>0.588</th>\n",
              "      <th>0.589</th>\n",
              "      <th>0.590</th>\n",
              "    </tr>\n",
              "  </thead>\n",
              "  <tbody>\n",
              "    <tr>\n",
              "      <th>0</th>\n",
              "      <td>5</td>\n",
              "      <td>0</td>\n",
              "      <td>0</td>\n",
              "      <td>0</td>\n",
              "      <td>0</td>\n",
              "      <td>0</td>\n",
              "      <td>0</td>\n",
              "      <td>0</td>\n",
              "      <td>0</td>\n",
              "      <td>0</td>\n",
              "      <td>...</td>\n",
              "      <td>0</td>\n",
              "      <td>0</td>\n",
              "      <td>0</td>\n",
              "      <td>0</td>\n",
              "      <td>0</td>\n",
              "      <td>0</td>\n",
              "      <td>0</td>\n",
              "      <td>0</td>\n",
              "      <td>0</td>\n",
              "      <td>0</td>\n",
              "    </tr>\n",
              "    <tr>\n",
              "      <th>1</th>\n",
              "      <td>7</td>\n",
              "      <td>0</td>\n",
              "      <td>0</td>\n",
              "      <td>0</td>\n",
              "      <td>0</td>\n",
              "      <td>0</td>\n",
              "      <td>0</td>\n",
              "      <td>0</td>\n",
              "      <td>0</td>\n",
              "      <td>0</td>\n",
              "      <td>...</td>\n",
              "      <td>0</td>\n",
              "      <td>0</td>\n",
              "      <td>0</td>\n",
              "      <td>0</td>\n",
              "      <td>0</td>\n",
              "      <td>0</td>\n",
              "      <td>0</td>\n",
              "      <td>0</td>\n",
              "      <td>0</td>\n",
              "      <td>0</td>\n",
              "    </tr>\n",
              "    <tr>\n",
              "      <th>2</th>\n",
              "      <td>9</td>\n",
              "      <td>0</td>\n",
              "      <td>0</td>\n",
              "      <td>0</td>\n",
              "      <td>0</td>\n",
              "      <td>0</td>\n",
              "      <td>0</td>\n",
              "      <td>0</td>\n",
              "      <td>0</td>\n",
              "      <td>0</td>\n",
              "      <td>...</td>\n",
              "      <td>0</td>\n",
              "      <td>0</td>\n",
              "      <td>0</td>\n",
              "      <td>0</td>\n",
              "      <td>0</td>\n",
              "      <td>0</td>\n",
              "      <td>0</td>\n",
              "      <td>0</td>\n",
              "      <td>0</td>\n",
              "      <td>0</td>\n",
              "    </tr>\n",
              "    <tr>\n",
              "      <th>3</th>\n",
              "      <td>5</td>\n",
              "      <td>0</td>\n",
              "      <td>0</td>\n",
              "      <td>0</td>\n",
              "      <td>0</td>\n",
              "      <td>0</td>\n",
              "      <td>0</td>\n",
              "      <td>0</td>\n",
              "      <td>0</td>\n",
              "      <td>0</td>\n",
              "      <td>...</td>\n",
              "      <td>0</td>\n",
              "      <td>0</td>\n",
              "      <td>0</td>\n",
              "      <td>0</td>\n",
              "      <td>0</td>\n",
              "      <td>0</td>\n",
              "      <td>0</td>\n",
              "      <td>0</td>\n",
              "      <td>0</td>\n",
              "      <td>0</td>\n",
              "    </tr>\n",
              "    <tr>\n",
              "      <th>4</th>\n",
              "      <td>2</td>\n",
              "      <td>0</td>\n",
              "      <td>0</td>\n",
              "      <td>0</td>\n",
              "      <td>0</td>\n",
              "      <td>0</td>\n",
              "      <td>0</td>\n",
              "      <td>0</td>\n",
              "      <td>0</td>\n",
              "      <td>0</td>\n",
              "      <td>...</td>\n",
              "      <td>0</td>\n",
              "      <td>0</td>\n",
              "      <td>0</td>\n",
              "      <td>0</td>\n",
              "      <td>0</td>\n",
              "      <td>0</td>\n",
              "      <td>0</td>\n",
              "      <td>0</td>\n",
              "      <td>0</td>\n",
              "      <td>0</td>\n",
              "    </tr>\n",
              "  </tbody>\n",
              "</table>\n",
              "<p>5 rows × 785 columns</p>\n",
              "</div>\n",
              "    <div class=\"colab-df-buttons\">\n",
              "\n",
              "  <div class=\"colab-df-container\">\n",
              "    <button class=\"colab-df-convert\" onclick=\"convertToInteractive('df-77c3ba4a-efbe-4d6a-9170-14b741b7ba9e')\"\n",
              "            title=\"Convert this dataframe to an interactive table.\"\n",
              "            style=\"display:none;\">\n",
              "\n",
              "  <svg xmlns=\"http://www.w3.org/2000/svg\" height=\"24px\" viewBox=\"0 -960 960 960\">\n",
              "    <path d=\"M120-120v-720h720v720H120Zm60-500h600v-160H180v160Zm220 220h160v-160H400v160Zm0 220h160v-160H400v160ZM180-400h160v-160H180v160Zm440 0h160v-160H620v160ZM180-180h160v-160H180v160Zm440 0h160v-160H620v160Z\"/>\n",
              "  </svg>\n",
              "    </button>\n",
              "\n",
              "  <style>\n",
              "    .colab-df-container {\n",
              "      display:flex;\n",
              "      gap: 12px;\n",
              "    }\n",
              "\n",
              "    .colab-df-convert {\n",
              "      background-color: #E8F0FE;\n",
              "      border: none;\n",
              "      border-radius: 50%;\n",
              "      cursor: pointer;\n",
              "      display: none;\n",
              "      fill: #1967D2;\n",
              "      height: 32px;\n",
              "      padding: 0 0 0 0;\n",
              "      width: 32px;\n",
              "    }\n",
              "\n",
              "    .colab-df-convert:hover {\n",
              "      background-color: #E2EBFA;\n",
              "      box-shadow: 0px 1px 2px rgba(60, 64, 67, 0.3), 0px 1px 3px 1px rgba(60, 64, 67, 0.15);\n",
              "      fill: #174EA6;\n",
              "    }\n",
              "\n",
              "    .colab-df-buttons div {\n",
              "      margin-bottom: 4px;\n",
              "    }\n",
              "\n",
              "    [theme=dark] .colab-df-convert {\n",
              "      background-color: #3B4455;\n",
              "      fill: #D2E3FC;\n",
              "    }\n",
              "\n",
              "    [theme=dark] .colab-df-convert:hover {\n",
              "      background-color: #434B5C;\n",
              "      box-shadow: 0px 1px 3px 1px rgba(0, 0, 0, 0.15);\n",
              "      filter: drop-shadow(0px 1px 2px rgba(0, 0, 0, 0.3));\n",
              "      fill: #FFFFFF;\n",
              "    }\n",
              "  </style>\n",
              "\n",
              "    <script>\n",
              "      const buttonEl =\n",
              "        document.querySelector('#df-77c3ba4a-efbe-4d6a-9170-14b741b7ba9e button.colab-df-convert');\n",
              "      buttonEl.style.display =\n",
              "        google.colab.kernel.accessAllowed ? 'block' : 'none';\n",
              "\n",
              "      async function convertToInteractive(key) {\n",
              "        const element = document.querySelector('#df-77c3ba4a-efbe-4d6a-9170-14b741b7ba9e');\n",
              "        const dataTable =\n",
              "          await google.colab.kernel.invokeFunction('convertToInteractive',\n",
              "                                                    [key], {});\n",
              "        if (!dataTable) return;\n",
              "\n",
              "        const docLinkHtml = 'Like what you see? Visit the ' +\n",
              "          '<a target=\"_blank\" href=https://colab.research.google.com/notebooks/data_table.ipynb>data table notebook</a>'\n",
              "          + ' to learn more about interactive tables.';\n",
              "        element.innerHTML = '';\n",
              "        dataTable['output_type'] = 'display_data';\n",
              "        await google.colab.output.renderOutput(dataTable, element);\n",
              "        const docLink = document.createElement('div');\n",
              "        docLink.innerHTML = docLinkHtml;\n",
              "        element.appendChild(docLink);\n",
              "      }\n",
              "    </script>\n",
              "  </div>\n",
              "\n",
              "\n",
              "<div id=\"df-a923bcc6-57bc-4dce-8f7f-d70fa1344446\">\n",
              "  <button class=\"colab-df-quickchart\" onclick=\"quickchart('df-a923bcc6-57bc-4dce-8f7f-d70fa1344446')\"\n",
              "            title=\"Suggest charts\"\n",
              "            style=\"display:none;\">\n",
              "\n",
              "<svg xmlns=\"http://www.w3.org/2000/svg\" height=\"24px\"viewBox=\"0 0 24 24\"\n",
              "     width=\"24px\">\n",
              "    <g>\n",
              "        <path d=\"M19 3H5c-1.1 0-2 .9-2 2v14c0 1.1.9 2 2 2h14c1.1 0 2-.9 2-2V5c0-1.1-.9-2-2-2zM9 17H7v-7h2v7zm4 0h-2V7h2v10zm4 0h-2v-4h2v4z\"/>\n",
              "    </g>\n",
              "</svg>\n",
              "  </button>\n",
              "\n",
              "<style>\n",
              "  .colab-df-quickchart {\n",
              "      --bg-color: #E8F0FE;\n",
              "      --fill-color: #1967D2;\n",
              "      --hover-bg-color: #E2EBFA;\n",
              "      --hover-fill-color: #174EA6;\n",
              "      --disabled-fill-color: #AAA;\n",
              "      --disabled-bg-color: #DDD;\n",
              "  }\n",
              "\n",
              "  [theme=dark] .colab-df-quickchart {\n",
              "      --bg-color: #3B4455;\n",
              "      --fill-color: #D2E3FC;\n",
              "      --hover-bg-color: #434B5C;\n",
              "      --hover-fill-color: #FFFFFF;\n",
              "      --disabled-bg-color: #3B4455;\n",
              "      --disabled-fill-color: #666;\n",
              "  }\n",
              "\n",
              "  .colab-df-quickchart {\n",
              "    background-color: var(--bg-color);\n",
              "    border: none;\n",
              "    border-radius: 50%;\n",
              "    cursor: pointer;\n",
              "    display: none;\n",
              "    fill: var(--fill-color);\n",
              "    height: 32px;\n",
              "    padding: 0;\n",
              "    width: 32px;\n",
              "  }\n",
              "\n",
              "  .colab-df-quickchart:hover {\n",
              "    background-color: var(--hover-bg-color);\n",
              "    box-shadow: 0 1px 2px rgba(60, 64, 67, 0.3), 0 1px 3px 1px rgba(60, 64, 67, 0.15);\n",
              "    fill: var(--button-hover-fill-color);\n",
              "  }\n",
              "\n",
              "  .colab-df-quickchart-complete:disabled,\n",
              "  .colab-df-quickchart-complete:disabled:hover {\n",
              "    background-color: var(--disabled-bg-color);\n",
              "    fill: var(--disabled-fill-color);\n",
              "    box-shadow: none;\n",
              "  }\n",
              "\n",
              "  .colab-df-spinner {\n",
              "    border: 2px solid var(--fill-color);\n",
              "    border-color: transparent;\n",
              "    border-bottom-color: var(--fill-color);\n",
              "    animation:\n",
              "      spin 1s steps(1) infinite;\n",
              "  }\n",
              "\n",
              "  @keyframes spin {\n",
              "    0% {\n",
              "      border-color: transparent;\n",
              "      border-bottom-color: var(--fill-color);\n",
              "      border-left-color: var(--fill-color);\n",
              "    }\n",
              "    20% {\n",
              "      border-color: transparent;\n",
              "      border-left-color: var(--fill-color);\n",
              "      border-top-color: var(--fill-color);\n",
              "    }\n",
              "    30% {\n",
              "      border-color: transparent;\n",
              "      border-left-color: var(--fill-color);\n",
              "      border-top-color: var(--fill-color);\n",
              "      border-right-color: var(--fill-color);\n",
              "    }\n",
              "    40% {\n",
              "      border-color: transparent;\n",
              "      border-right-color: var(--fill-color);\n",
              "      border-top-color: var(--fill-color);\n",
              "    }\n",
              "    60% {\n",
              "      border-color: transparent;\n",
              "      border-right-color: var(--fill-color);\n",
              "    }\n",
              "    80% {\n",
              "      border-color: transparent;\n",
              "      border-right-color: var(--fill-color);\n",
              "      border-bottom-color: var(--fill-color);\n",
              "    }\n",
              "    90% {\n",
              "      border-color: transparent;\n",
              "      border-bottom-color: var(--fill-color);\n",
              "    }\n",
              "  }\n",
              "</style>\n",
              "\n",
              "  <script>\n",
              "    async function quickchart(key) {\n",
              "      const quickchartButtonEl =\n",
              "        document.querySelector('#' + key + ' button');\n",
              "      quickchartButtonEl.disabled = true;  // To prevent multiple clicks.\n",
              "      quickchartButtonEl.classList.add('colab-df-spinner');\n",
              "      try {\n",
              "        const charts = await google.colab.kernel.invokeFunction(\n",
              "            'suggestCharts', [key], {});\n",
              "      } catch (error) {\n",
              "        console.error('Error during call to suggestCharts:', error);\n",
              "      }\n",
              "      quickchartButtonEl.classList.remove('colab-df-spinner');\n",
              "      quickchartButtonEl.classList.add('colab-df-quickchart-complete');\n",
              "    }\n",
              "    (() => {\n",
              "      let quickchartButtonEl =\n",
              "        document.querySelector('#df-a923bcc6-57bc-4dce-8f7f-d70fa1344446 button');\n",
              "      quickchartButtonEl.style.display =\n",
              "        google.colab.kernel.accessAllowed ? 'block' : 'none';\n",
              "    })();\n",
              "  </script>\n",
              "</div>\n",
              "    </div>\n",
              "  </div>\n"
            ]
          },
          "metadata": {},
          "execution_count": 3
        }
      ]
    },
    {
      "cell_type": "code",
      "source": [
        "targets = np.array(mnist_df[\"6\"])"
      ],
      "metadata": {
        "id": "eOPIzCTU2jyJ"
      },
      "execution_count": 7,
      "outputs": []
    },
    {
      "cell_type": "code",
      "source": [
        "features = np.array(mnist_df.drop(columns=\"6\"))"
      ],
      "metadata": {
        "colab": {
          "base_uri": "https://localhost:8080/"
        },
        "id": "HcYePsbb22pM",
        "outputId": "29c4e3a0-caeb-4446-b629-e3a261adfcb3"
      },
      "execution_count": 14,
      "outputs": [
        {
          "output_type": "execute_result",
          "data": {
            "text/plain": [
              "(19999, 784)"
            ]
          },
          "metadata": {},
          "execution_count": 14
        }
      ]
    },
    {
      "cell_type": "code",
      "source": [
        "m, n = features.shape\n",
        "print(f\"Training examples: {m}, Example features: {n}\")"
      ],
      "metadata": {
        "colab": {
          "base_uri": "https://localhost:8080/"
        },
        "id": "eJeiG8hR3Tmx",
        "outputId": "b79002d9-47b5-490e-a978-bc62818b44f8"
      },
      "execution_count": 17,
      "outputs": [
        {
          "output_type": "stream",
          "name": "stdout",
          "text": [
            "Training examples: 19999, Example features: 784\n"
          ]
        }
      ]
    },
    {
      "cell_type": "markdown",
      "source": [
        "Will use logistic regression to build a multiclass classification, using one vs all approach, should be something like turning a specific number into a 1 and the rest of the numbers into a 0, use the pixel values as the features, calculate weights and biases to only recognize that number an then build other n classifiers for the rest of the numbers"
      ],
      "metadata": {
        "id": "QHlS78-L5por"
      }
    },
    {
      "cell_type": "code",
      "source": [
        "class LogisticRegression:\n",
        "    def __init__(self, features, targets):\n",
        "        self.X = np.array(features)\n",
        "        self.m, self.n = np.shape(self.X)\n",
        "        self.Y = np.array(targets)\n",
        "        self.W = np.zeros(self.n)\n",
        "        self.b = 0\n",
        "\n",
        "    def train(self, iterations, learning_rate):\n",
        "        for _ in range(iterations):\n",
        "            logistic_regression_model = self._model()\n",
        "            Y_pred = self._sigmoid(logistic_regression_model)\n",
        "            dw = (1/self.m)*np.dot(np.transpose(self.X),(Y_pred - self.Y))\n",
        "            db = (1/self.m)*np.sum(Y_pred - self.Y)\n",
        "            self.W -= learning_rate * dw\n",
        "            self.b -= learning_rate * db\n",
        "\n",
        "    def _model(self):\n",
        "        return np.dot(self.X, self.W) + self.b\n",
        "\n",
        "    def _sigmoid(self, Z):\n",
        "        return 1/(1 + np.exp(-Z))\n",
        "\n",
        "    def predict(self):\n",
        "        logistic_regression_model = np.dot(self.X, self.W) + self.b\n",
        "        Y_predicted = self._sigmoid(logistic_regression_model)\n",
        "        return np.array([1 if i>0.5 else 0 for i in Y_predicted]), Y_predicted\n",
        "\n",
        "    def accuracy(self):\n",
        "        accuracy = np.sum(self.Y == self.predict()[0])/len(self.Y)\n",
        "        return accuracy"
      ],
      "metadata": {
        "id": "Agb0mCnb6e27"
      },
      "execution_count": 44,
      "outputs": []
    },
    {
      "cell_type": "markdown",
      "source": [
        "Setting up the targets to classify if a number is 0...9 or not\n"
      ],
      "metadata": {
        "id": "BpuKMvix-YtY"
      }
    },
    {
      "cell_type": "code",
      "source": [
        "targets_zero = np.array([1 if target == 0 else 0 for target in targets])\n",
        "targets_one = np.array([1 if target == 1 else 0 for target in targets])\n",
        "targets_two = np.array([1 if target == 2 else 0 for target in targets])\n",
        "targets_three = np.array([1 if target == 3 else 0 for target in targets])\n",
        "targets_four = np.array([1 if target == 4 else 0 for target in targets])\n",
        "targets_five = np.array([1 if target == 5 else 0 for target in targets])\n",
        "targets_six = np.array([1 if target == 6 else 0 for target in targets])\n",
        "targets_seven = np.array([1 if target == 7 else 0 for target in targets])\n",
        "targets_eight = np.array([1 if target == 8 else 0 for target in targets])\n",
        "targets_nine = np.array([1 if target == 9 else 0 for target in targets])"
      ],
      "metadata": {
        "id": "B7vpHF3n-Xif"
      },
      "execution_count": 48,
      "outputs": []
    },
    {
      "cell_type": "markdown",
      "source": [
        "Creating instances of the binary classifiers"
      ],
      "metadata": {
        "id": "hFjj-lNw_Hk8"
      }
    },
    {
      "cell_type": "code",
      "source": [
        "classifier_zero = LogisticRegression(features, targets_zero)\n",
        "classifier_one = LogisticRegression(features, targets_one)\n",
        "classifier_two = LogisticRegression(features, targets_two)\n",
        "classifier_three = LogisticRegression(features, targets_three)\n",
        "classifier_four = LogisticRegression(features, targets_four)\n",
        "classifier_five = LogisticRegression(features, targets_five)\n",
        "classifier_six = LogisticRegression(features, targets_six)\n",
        "classifier_seven = LogisticRegression(features, targets_seven)\n",
        "classifier_eight = LogisticRegression(features, targets_eight)\n",
        "classifier_nine = LogisticRegression(features, targets_nine)"
      ],
      "metadata": {
        "id": "jAICAldK_FeB"
      },
      "execution_count": 49,
      "outputs": []
    },
    {
      "cell_type": "markdown",
      "source": [
        "Training all binary classifiers"
      ],
      "metadata": {
        "id": "k7c_-PkN_l9Q"
      }
    },
    {
      "cell_type": "code",
      "source": [
        "classifier_zero.train(100, 0.0001)\n",
        "classifier_one.train(100, 0.0001)\n",
        "classifier_two.train(100, 0.0001)\n",
        "classifier_three.train(100, 0.0001)\n",
        "classifier_four.train(100, 0.0001)\n",
        "classifier_five.train(100, 0.0001)\n",
        "classifier_six.train(100, 0.0001)\n",
        "classifier_seven.train(100, 0.0001)\n",
        "classifier_eight.train(100, 0.0001)\n",
        "classifier_nine.train(100, 0.0001)"
      ],
      "metadata": {
        "id": "jMkgDjYQ_u3F"
      },
      "execution_count": 90,
      "outputs": []
    },
    {
      "cell_type": "markdown",
      "source": [
        "Took around 3 minutes to train all binary classifiers and reached and accuracy of: 84% -> 99%\n",
        "\n",
        "I believe the 84% messed my final result of accuracy, training will be 1000 iterations trying to improve accuracy, if too slow will try to run each training in a separate process."
      ],
      "metadata": {
        "id": "paMDhiC5AuwU"
      }
    },
    {
      "cell_type": "code",
      "source": [
        "classifier_zero.accuracy()"
      ],
      "metadata": {
        "colab": {
          "base_uri": "https://localhost:8080/"
        },
        "id": "HRtwxI55AudT",
        "outputId": "6d1e6c27-63ac-4f14-8ed9-3d9161a0bdf9"
      },
      "execution_count": 91,
      "outputs": [
        {
          "output_type": "execute_result",
          "data": {
            "text/plain": [
              "0.9946497324866244"
            ]
          },
          "metadata": {},
          "execution_count": 91
        }
      ]
    },
    {
      "cell_type": "code",
      "source": [
        "classifier_one.accuracy()"
      ],
      "metadata": {
        "colab": {
          "base_uri": "https://localhost:8080/"
        },
        "id": "vff4UaqHBFKY",
        "outputId": "883f5b8a-1373-4c86-c644-ad127567dda1"
      },
      "execution_count": 92,
      "outputs": [
        {
          "output_type": "execute_result",
          "data": {
            "text/plain": [
              "0.9940497024851243"
            ]
          },
          "metadata": {},
          "execution_count": 92
        }
      ]
    },
    {
      "cell_type": "code",
      "source": [
        "classifier_two.accuracy()"
      ],
      "metadata": {
        "colab": {
          "base_uri": "https://localhost:8080/"
        },
        "id": "lc2bwcPGBG7B",
        "outputId": "4de25677-f272-4cf1-f396-6828ab05f51a"
      },
      "execution_count": 93,
      "outputs": [
        {
          "output_type": "execute_result",
          "data": {
            "text/plain": [
              "0.9781489074453723"
            ]
          },
          "metadata": {},
          "execution_count": 93
        }
      ]
    },
    {
      "cell_type": "code",
      "source": [
        "classifier_three.accuracy()"
      ],
      "metadata": {
        "colab": {
          "base_uri": "https://localhost:8080/"
        },
        "id": "gclPtZQWBIbh",
        "outputId": "a9206724-a7f5-4349-dd5b-02eccfad5547"
      },
      "execution_count": 94,
      "outputs": [
        {
          "output_type": "execute_result",
          "data": {
            "text/plain": [
              "0.9699984999249962"
            ]
          },
          "metadata": {},
          "execution_count": 94
        }
      ]
    },
    {
      "cell_type": "code",
      "source": [
        "classifier_four.accuracy()"
      ],
      "metadata": {
        "colab": {
          "base_uri": "https://localhost:8080/"
        },
        "id": "vw2VQ8UNBKJ9",
        "outputId": "c360a54a-1eae-4337-a2ea-8a76878e8638"
      },
      "execution_count": 95,
      "outputs": [
        {
          "output_type": "execute_result",
          "data": {
            "text/plain": [
              "0.984299214960748"
            ]
          },
          "metadata": {},
          "execution_count": 95
        }
      ]
    },
    {
      "cell_type": "code",
      "source": [
        "classifier_five.accuracy()"
      ],
      "metadata": {
        "colab": {
          "base_uri": "https://localhost:8080/"
        },
        "id": "R1SvlpaXBLVV",
        "outputId": "05fb2894-b416-47fe-a399-0651011adfff"
      },
      "execution_count": 96,
      "outputs": [
        {
          "output_type": "execute_result",
          "data": {
            "text/plain": [
              "0.9395969798489925"
            ]
          },
          "metadata": {},
          "execution_count": 96
        }
      ]
    },
    {
      "cell_type": "code",
      "source": [
        "classifier_six.accuracy()"
      ],
      "metadata": {
        "colab": {
          "base_uri": "https://localhost:8080/"
        },
        "id": "xgNt2KRqBNRX",
        "outputId": "c97c3419-0117-4606-f265-462e866ba351"
      },
      "execution_count": 97,
      "outputs": [
        {
          "output_type": "execute_result",
          "data": {
            "text/plain": [
              "0.9904495224761238"
            ]
          },
          "metadata": {},
          "execution_count": 97
        }
      ]
    },
    {
      "cell_type": "code",
      "source": [
        "classifier_seven.accuracy()"
      ],
      "metadata": {
        "colab": {
          "base_uri": "https://localhost:8080/"
        },
        "id": "S3W25nLeBPEZ",
        "outputId": "c6074a56-e55e-4e1a-b56c-bcaafd4ee322"
      },
      "execution_count": 98,
      "outputs": [
        {
          "output_type": "execute_result",
          "data": {
            "text/plain": [
              "0.9867993399669983"
            ]
          },
          "metadata": {},
          "execution_count": 98
        }
      ]
    },
    {
      "cell_type": "code",
      "source": [
        "classifier_eight.accuracy()"
      ],
      "metadata": {
        "colab": {
          "base_uri": "https://localhost:8080/"
        },
        "id": "UBM_LHJqBQlj",
        "outputId": "2ea3cc0c-8107-4f30-bf30-5058116775c4"
      },
      "execution_count": 99,
      "outputs": [
        {
          "output_type": "execute_result",
          "data": {
            "text/plain": [
              "0.8996449822491125"
            ]
          },
          "metadata": {},
          "execution_count": 99
        }
      ]
    },
    {
      "cell_type": "code",
      "source": [
        "classifier_nine.accuracy()"
      ],
      "metadata": {
        "colab": {
          "base_uri": "https://localhost:8080/"
        },
        "id": "HLmga-pyBWsP",
        "outputId": "49781cab-2cfa-4369-b1f0-c7dccb879ca9"
      },
      "execution_count": 100,
      "outputs": [
        {
          "output_type": "execute_result",
          "data": {
            "text/plain": [
              "0.9592479623981199"
            ]
          },
          "metadata": {},
          "execution_count": 100
        }
      ]
    },
    {
      "cell_type": "markdown",
      "source": [
        "I need something like the python max function but that keeps info of the index of the max value within a list/tuple/set.\n",
        "\n",
        "I will build a max function that will keep track of the zipped probabilites and it will return the number with higher probability."
      ],
      "metadata": {
        "id": "pZr97_3QwD65"
      }
    },
    {
      "cell_type": "code",
      "source": [
        "def number_probability(zero, one, two, three, four, five, six, seven, eight, nine):\n",
        "  max_prob = max((zero, one, two, three, four, five, six, seven, eight, nine))\n",
        "  if max_prob == zero:\n",
        "    return 0\n",
        "  if max_prob == one:\n",
        "    return 1\n",
        "  if max_prob == two:\n",
        "    return 2\n",
        "  if max_prob == three:\n",
        "    return 3\n",
        "  if max_prob == four:\n",
        "    return 4\n",
        "  if max_prob == five:\n",
        "    return 5\n",
        "  if max_prob == six:\n",
        "    return 6\n",
        "  if max_prob == seven:\n",
        "    return 7\n",
        "  if max_prob == eight:\n",
        "    return 8\n",
        "  if max_prob == nine:\n",
        "    return 9"
      ],
      "metadata": {
        "id": "s5T3FwQYwsz8"
      },
      "execution_count": 86,
      "outputs": []
    },
    {
      "cell_type": "code",
      "source": [
        "_, probabilities_zero = classifier_zero.predict()\n",
        "_, probabilities_one = classifier_one.predict()\n",
        "_, probabilities_two = classifier_two.predict()\n",
        "_, probabilities_three = classifier_three.predict()\n",
        "_, probabilities_four = classifier_four.predict()\n",
        "_, probabilities_five = classifier_five.predict()\n",
        "_, probabilities_six = classifier_six.predict()\n",
        "_, probabilities_seven = classifier_seven.predict()\n",
        "_, probabilities_eight = classifier_eight.predict()\n",
        "_, probabilities_nine = classifier_nine.predict()\n",
        "final_predictions = []\n",
        "for item in zip(probabilities_zero, probabilities_one, probabilities_two, probabilities_three, probabilities_four, probabilities_five, probabilities_six, probabilities_seven, probabilities_eight, probabilities_nine):\n",
        "  final_predictions.append(number_probability(*item))\n",
        "final_predictions = np.array(final_predictions)"
      ],
      "metadata": {
        "id": "iTWnV6ENmsxe"
      },
      "execution_count": 101,
      "outputs": []
    },
    {
      "cell_type": "code",
      "source": [
        "def accuracy(targets, final_predictions):\n",
        "    accuracy = np.sum(targets == final_predictions)/len(targets)\n",
        "    return accuracy"
      ],
      "metadata": {
        "id": "kCfL1gwCy0r1"
      },
      "execution_count": 102,
      "outputs": []
    },
    {
      "cell_type": "code",
      "source": [
        "accuracy(targets, final_predictions)"
      ],
      "metadata": {
        "colab": {
          "base_uri": "https://localhost:8080/"
        },
        "id": "cpCoxYs8zgLF",
        "outputId": "5f15b8ed-4218-41c7-f102-bde15eb918da"
      },
      "execution_count": 103,
      "outputs": [
        {
          "output_type": "execute_result",
          "data": {
            "text/plain": [
              "0.872543627181359"
            ]
          },
          "metadata": {},
          "execution_count": 103
        }
      ]
    }
  ]
}