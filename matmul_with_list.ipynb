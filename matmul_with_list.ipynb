{
  "nbformat": 4,
  "nbformat_minor": 0,
  "metadata": {
    "colab": {
      "provenance": [],
      "toc_visible": true
    },
    "kernelspec": {
      "name": "python3",
      "display_name": "Python 3"
    },
    "language_info": {
      "name": "python"
    }
  },
  "cells": [
    {
      "cell_type": "markdown",
      "source": [
        "#### Iterating the list and the numpy array"
      ],
      "metadata": {
        "id": "pbigONq1KFu-"
      }
    },
    {
      "cell_type": "code",
      "source": [
        "import numpy as np\n",
        "\n",
        "my_list = [1,2,3,4]\n",
        "my_np_array = np.array([1,2,3,4])\n",
        "\n",
        "for ele in my_list:\n",
        "  print(ele, type(ele))\n",
        "\n",
        "for ele in my_np_array:\n",
        "  print(ele, type(ele))"
      ],
      "metadata": {
        "colab": {
          "base_uri": "https://localhost:8080/"
        },
        "id": "WWCQMj67J2Qi",
        "outputId": "017e3c66-a5d5-42b2-f6d5-17c6b9f4e743"
      },
      "execution_count": 16,
      "outputs": [
        {
          "output_type": "stream",
          "name": "stdout",
          "text": [
            "1 <class 'int'>\n",
            "2 <class 'int'>\n",
            "3 <class 'int'>\n",
            "4 <class 'int'>\n",
            "1 <class 'numpy.int64'>\n",
            "2 <class 'numpy.int64'>\n",
            "3 <class 'numpy.int64'>\n",
            "4 <class 'numpy.int64'>\n"
          ]
        }
      ]
    },
    {
      "cell_type": "markdown",
      "source": [
        "#### Trying to append to a list will suceed but trying to append to a numpy array will fail because a numpy array is fixed, just enough memory for the needed elements will be allocated"
      ],
      "metadata": {
        "id": "uOsqKy7jK0uS"
      }
    },
    {
      "cell_type": "code",
      "source": [
        "my_list.append(4)\n",
        "print(my_list)"
      ],
      "metadata": {
        "colab": {
          "base_uri": "https://localhost:8080/"
        },
        "id": "arOTKB_AKXHE",
        "outputId": "1aee320d-81a4-42a0-d354-bde2159e604c"
      },
      "execution_count": 17,
      "outputs": [
        {
          "output_type": "stream",
          "name": "stdout",
          "text": [
            "[1, 2, 3, 4, 4]\n"
          ]
        }
      ]
    },
    {
      "cell_type": "code",
      "source": [
        "#my_np_array.append(4) this line throws an AttributeError 'numpy.ndarray' object has no attribute 'append'"
      ],
      "metadata": {
        "id": "O25_Br6tLZCa"
      },
      "execution_count": 18,
      "outputs": []
    },
    {
      "cell_type": "markdown",
      "source": [
        "#### Effects of using `+` operator on lists:"
      ],
      "metadata": {
        "id": "S-hYuvjsMKY2"
      }
    },
    {
      "cell_type": "code",
      "source": [
        "#print(my_list + 5) #Throws TypeError 'can only concatenate list (not \"int\") to l'\n",
        "print(my_list + [5])#performs the same operation as my_list.append(5)"
      ],
      "metadata": {
        "colab": {
          "base_uri": "https://localhost:8080/"
        },
        "id": "UutJtBlfLf77",
        "outputId": "c51d9500-ff5e-4a3a-943f-d0fbdee4831a"
      },
      "execution_count": 19,
      "outputs": [
        {
          "output_type": "stream",
          "name": "stdout",
          "text": [
            "[1, 2, 3, 4, 4, 5]\n"
          ]
        }
      ]
    },
    {
      "cell_type": "markdown",
      "source": [
        "#### Effects of using `+` operator on numpy arrays"
      ],
      "metadata": {
        "id": "JRCTt__IdYM9"
      }
    },
    {
      "cell_type": "code",
      "source": [
        "print(my_np_array + 5) #adds 5 to every element of the numpy array in a single operation\n",
        "print(my_np_array + [5]) #adds 5 to every element of the numpy array in a single operation\n",
        "#print(my_np_array + [5,2]) #Throws ValueError 'operands could not be broadcast together with shapes (4,) (2,)', seems you can only broadcast scalars"
      ],
      "metadata": {
        "colab": {
          "base_uri": "https://localhost:8080/"
        },
        "id": "6WWZDqh9Mlx3",
        "outputId": "6bb786ac-24d6-48cc-91d8-b435fb5369bd"
      },
      "execution_count": 20,
      "outputs": [
        {
          "output_type": "stream",
          "name": "stdout",
          "text": [
            "[6 7 8 9]\n",
            "[6 7 8 9]\n"
          ]
        }
      ]
    },
    {
      "cell_type": "markdown",
      "source": [
        "#### What is broadcasting in Numpy??"
      ],
      "metadata": {
        "id": "2RdyJspVgMcw"
      }
    },
    {
      "cell_type": "markdown",
      "source": [
        "#### Vector addition in numpy"
      ],
      "metadata": {
        "id": "QRWM_lxmgZrr"
      }
    },
    {
      "cell_type": "code",
      "source": [
        "my_other_np_array = np.array([1,2,3,4])\n",
        "print(my_other_np_array + my_np_array)#at this point my_np_array == [1,2,3,4]"
      ],
      "metadata": {
        "colab": {
          "base_uri": "https://localhost:8080/"
        },
        "id": "6c_31GFwdtQy",
        "outputId": "2c331ac8-253b-4dc5-8d8e-92c1b03f12ca"
      },
      "execution_count": 21,
      "outputs": [
        {
          "output_type": "stream",
          "name": "stdout",
          "text": [
            "[2 4 6 8]\n"
          ]
        }
      ]
    },
    {
      "cell_type": "markdown",
      "source": [
        "#### Effects of using `*` operator on lists"
      ],
      "metadata": {
        "id": "h75DDjC8hrAP"
      }
    },
    {
      "cell_type": "code",
      "source": [
        "my_list * 2#using '*' operator on lists repeats the list contents"
      ],
      "metadata": {
        "colab": {
          "base_uri": "https://localhost:8080/"
        },
        "id": "RmYbB1TYgpdG",
        "outputId": "f1291dad-c4f7-430e-eba0-c2931b10588d"
      },
      "execution_count": 22,
      "outputs": [
        {
          "output_type": "execute_result",
          "data": {
            "text/plain": [
              "[1, 2, 3, 4, 4, 1, 2, 3, 4, 4]"
            ]
          },
          "metadata": {},
          "execution_count": 22
        }
      ]
    },
    {
      "cell_type": "markdown",
      "source": [
        "#### Effects of using `*` operator on numpy arrays"
      ],
      "metadata": {
        "id": "k09mtJqHiCgp"
      }
    },
    {
      "cell_type": "code",
      "source": [
        "2 * my_np_array\n",
        "[2] * my_np_array\n",
        "#[2,4] * my_np_array#Throws ValueError 'operands could not be broadcast together with shapes (4,) (2,)', seems you can only broadcast scalars"
      ],
      "metadata": {
        "colab": {
          "base_uri": "https://localhost:8080/"
        },
        "id": "1i-oMEz9h0T1",
        "outputId": "9b3741a9-deab-4ea5-d017-7bfe8397bb73"
      },
      "execution_count": 23,
      "outputs": [
        {
          "output_type": "execute_result",
          "data": {
            "text/plain": [
              "array([2, 4, 6, 8])"
            ]
          },
          "metadata": {},
          "execution_count": 23
        }
      ]
    },
    {
      "cell_type": "markdown",
      "source": [
        "#### Most of numpy operations are applied element wise\n",
        "- np.sqrt() returns the square root of each element in the numpy array\n",
        "- np.log() returns the logarithm of each element in the numpy array\n",
        "- np.array() ** n returns the nth power of each element in the numpy array"
      ],
      "metadata": {
        "id": "_Z8HKQ03i9K8"
      }
    },
    {
      "cell_type": "markdown",
      "source": [
        "#### The Dot product\n",
        "\n",
        "The dot product can be defined algebraically or geometrically\n",
        "\n",
        "Coordinate definition:\n",
        "\n",
        "A . B = sum(Ai * Bi i=0->n)\n",
        "\n",
        "Geometric definition:\n",
        "\n",
        "An eucledian vector is a geometric object which posseses both magnitude and direction.\n",
        "\n",
        "The magnitude of an eucledian vector is equal to the square root of the dot product of an eucledian vector with itself\n",
        "\n",
        "Ø is the angle between A and B\n",
        "\n",
        "A . B = ||A||.||B||cos Ø"
      ],
      "metadata": {
        "id": "o82cXl0jkyll"
      }
    },
    {
      "cell_type": "markdown",
      "source": [
        "#### Algebraic definition of the dot product"
      ],
      "metadata": {
        "id": "RG8xM4Mvvy1Y"
      }
    },
    {
      "cell_type": "markdown",
      "source": [],
      "metadata": {
        "id": "BXFs7d-iZysp"
      }
    },
    {
      "cell_type": "code",
      "source": [
        "#Dot product done naively with numpy\n",
        "np.sum(my_np_array * my_other_np_array)#30\n",
        "\n",
        "#Using built-in dot product class method from numpy\n",
        "np.dot(my_np_array, my_other_np_array)#30\n",
        "\n",
        "#most of the class methods from numpy can also be used as instance methods\n",
        "(my_np_array * my_other_np_array).sum()\n",
        "my_np_array.dot(my_other_np_array)"
      ],
      "metadata": {
        "colab": {
          "base_uri": "https://localhost:8080/"
        },
        "id": "EqoDQw8wiNHN",
        "outputId": "e0dc29de-5c83-4e28-a136-6ce4abcf41fa"
      },
      "execution_count": 24,
      "outputs": [
        {
          "output_type": "execute_result",
          "data": {
            "text/plain": [
              "30"
            ]
          },
          "metadata": {},
          "execution_count": 24
        }
      ]
    },
    {
      "cell_type": "markdown",
      "source": [
        "#### Geometric definition of the dot product"
      ],
      "metadata": {
        "id": "zWNh13-Gtl7e"
      }
    },
    {
      "cell_type": "code",
      "source": [
        "#getting the my_np_array magnitude\n",
        "np.sqrt(my_np_array.dot(my_np_array))\n",
        "#getting the my_other_np_array magniture\n",
        "np.sqrt(np.dot(my_other_np_array, my_other_np_array))\n",
        "\n",
        "#since this is such an ubiquitous operation numpy counts with the built-in norm method from the linalg module\n",
        "#getting the my_np_array magnitude\n",
        "np.linalg.norm(my_np_array)\n",
        "#getting the my_other_np_array magniture\n",
        "np.linalg.norm(my_other_np_array)"
      ],
      "metadata": {
        "colab": {
          "base_uri": "https://localhost:8080/"
        },
        "id": "3cN3IaBxm5ay",
        "outputId": "07c79ce7-c631-484d-f85c-b86a2f55a59c"
      },
      "execution_count": 25,
      "outputs": [
        {
          "output_type": "execute_result",
          "data": {
            "text/plain": [
              "5.477225575051661"
            ]
          },
          "metadata": {},
          "execution_count": 25
        }
      ]
    },
    {
      "cell_type": "markdown",
      "source": [
        "#### Solving linear systems\n",
        "\n",
        "The admission fee at a small fair is \\$1.50 for children and \\$4.00 for adults. On a certain day, 2200 people enter the fair, and \\$5050 is collected, how many children and adults attended."
      ],
      "metadata": {
        "id": "lhDENodnaCMv"
      }
    },
    {
      "cell_type": "code",
      "source": [
        "A = np.array([[1,1],[1.5,4.0]])\n",
        "b = np.array([[2200], [5050]])\n",
        "\n",
        "np.linalg.solve(A, b)"
      ],
      "metadata": {
        "id": "fxttTTsIt5uj",
        "colab": {
          "base_uri": "https://localhost:8080/"
        },
        "outputId": "f9c0b1c6-6b44-4b7b-a39a-1d56bd3ac21f"
      },
      "execution_count": 26,
      "outputs": [
        {
          "output_type": "execute_result",
          "data": {
            "text/plain": [
              "array([[1500.],\n",
              "       [ 700.]])"
            ]
          },
          "metadata": {},
          "execution_count": 26
        }
      ]
    },
    {
      "cell_type": "markdown",
      "source": [
        "#### Generating data"
      ],
      "metadata": {
        "id": "9f-Tdb2ru8Im"
      }
    },
    {
      "cell_type": "code",
      "source": [
        "np.zeros((2,3))"
      ],
      "metadata": {
        "colab": {
          "base_uri": "https://localhost:8080/"
        },
        "id": "x7iGKcSNbfW8",
        "outputId": "25df5e10-0ccc-47fa-801e-f0db8ed16a38"
      },
      "execution_count": 27,
      "outputs": [
        {
          "output_type": "execute_result",
          "data": {
            "text/plain": [
              "array([[0., 0., 0.],\n",
              "       [0., 0., 0.]])"
            ]
          },
          "metadata": {},
          "execution_count": 27
        }
      ]
    },
    {
      "cell_type": "code",
      "source": [
        "np.ones((2,2))"
      ],
      "metadata": {
        "colab": {
          "base_uri": "https://localhost:8080/"
        },
        "id": "fHogtD4WvDYD",
        "outputId": "221b6513-c925-4803-990e-7ff3339f004b"
      },
      "execution_count": 28,
      "outputs": [
        {
          "output_type": "execute_result",
          "data": {
            "text/plain": [
              "array([[1., 1.],\n",
              "       [1., 1.]])"
            ]
          },
          "metadata": {},
          "execution_count": 28
        }
      ]
    },
    {
      "cell_type": "code",
      "source": [
        "np.eye(3,3)"
      ],
      "metadata": {
        "colab": {
          "base_uri": "https://localhost:8080/"
        },
        "id": "glmRCefNvee6",
        "outputId": "f863fa2e-2893-45fa-a120-143d78eaf725"
      },
      "execution_count": 29,
      "outputs": [
        {
          "output_type": "execute_result",
          "data": {
            "text/plain": [
              "array([[1., 0., 0.],\n",
              "       [0., 1., 0.],\n",
              "       [0., 0., 1.]])"
            ]
          },
          "metadata": {},
          "execution_count": 29
        }
      ]
    },
    {
      "cell_type": "markdown",
      "source": [
        "#### Generate random data"
      ],
      "metadata": {
        "id": "osVTtKD8wOjF"
      }
    },
    {
      "cell_type": "code",
      "source": [
        "np.random.random(2)"
      ],
      "metadata": {
        "colab": {
          "base_uri": "https://localhost:8080/"
        },
        "id": "1NGfKrgEwKYl",
        "outputId": "310477d5-8c2e-4d64-a024-a2657544b4f0"
      },
      "execution_count": 30,
      "outputs": [
        {
          "output_type": "execute_result",
          "data": {
            "text/plain": [
              "array([0.86124769, 0.1242296 ])"
            ]
          },
          "metadata": {},
          "execution_count": 30
        }
      ]
    },
    {
      "cell_type": "code",
      "source": [
        "np.random.random((2,3))"
      ],
      "metadata": {
        "colab": {
          "base_uri": "https://localhost:8080/"
        },
        "id": "6NUUTUYUwcwk",
        "outputId": "3f3df212-4006-4861-994f-60d3856e36ad"
      },
      "execution_count": 31,
      "outputs": [
        {
          "output_type": "execute_result",
          "data": {
            "text/plain": [
              "array([[0.70398214, 0.74156927, 0.42228008],\n",
              "       [0.42980676, 0.64313432, 0.14735853]])"
            ]
          },
          "metadata": {},
          "execution_count": 31
        }
      ]
    },
    {
      "cell_type": "code",
      "source": [
        "np.random.randint(-3, 3, (2,2))"
      ],
      "metadata": {
        "colab": {
          "base_uri": "https://localhost:8080/"
        },
        "id": "XuIKR4c1wi3i",
        "outputId": "2f772868-ceb1-48b4-9e61-a62267608bbe"
      },
      "execution_count": 32,
      "outputs": [
        {
          "output_type": "execute_result",
          "data": {
            "text/plain": [
              "array([[-2, -1],\n",
              "       [ 2,  2]])"
            ]
          },
          "metadata": {},
          "execution_count": 32
        }
      ]
    },
    {
      "cell_type": "markdown",
      "source": [
        "#### Implementing matrix multiplication with lists and comparing against numpy matrix multiplication\n",
        "\n",
        "Consider two input matrixes:\n",
        "- matrix A of dimensions (m1, n1)\n",
        "    where\n",
        "      m1 is the number of rows of matrix A\n",
        "      n1 is the number of cols of matrix A\n",
        "    \n",
        "- matrix B of dimensions (m2, n2)\n",
        "    where\n",
        "      m2 is the number of rows of matrix B\n",
        "      n2 is the number of cols of matrix B\n",
        "\n",
        "the output matrix will be:\n",
        "- matrix C of dimension (m1, n2)\n",
        "    where\n",
        "      m1 is the number of rows of matrix A\n",
        "      n2 is the number of cols of matrix B\n",
        "\n",
        "1. check matrix A number of columns corresponds to matrix B number of rows\n",
        "\n",
        "2. create zeros matrix with the same number of rows of matrix A and the same number of columns of matrix B\n",
        "\n",
        "\n",
        "To implement matrix multiplication we need the whole row from the first matrix and the whole column from the second matrix, these need to have the same lenght!\n",
        "\n",
        "then we iterate over each row and column, multiplying term by term to finally sum all the products\n",
        "\n",
        "the output cell will be located at the current row from matrix a and the current colum from matrixb"
      ],
      "metadata": {
        "id": "w_s7fAgKy1J9"
      }
    },
    {
      "cell_type": "code",
      "source": [
        "matrix_A = [[1,1,1], [1,1,1]]\n",
        "matrix_B = [[1,2,3,4], [5,6,7,8], [9,10,11,12]]\n",
        "\n",
        "\n",
        "matrix_A_rows = len(matrix_A)\n",
        "matrix_A_cols = len(matrix_A[0])\n",
        "matrix_B_rows = len(matrix_B)\n",
        "matrix_B_cols = len(matrix_B[0])\n",
        "\n",
        "def get_matrix_column(col_i, matrix):\n",
        "  return [matrix[row_i][col_i] for row_i in range(len(matrix))]\n",
        "\n",
        "\n",
        "if matrix_A_cols != matrix_B_rows:\n",
        "  raise \"matrix dimensions are not adequate for multiplication\"\n",
        "\n",
        "matrix_c = []\n",
        "for _ in range(matrix_A_rows):\n",
        "  matrix_c.append([0 for _ in range(matrix_B_cols)])\n",
        "\n",
        "print(matrix_c)\n",
        "\n",
        "for i in range(matrix_A_rows):\n",
        "  curr_row = matrix_A[i]\n",
        "  for j in range(matrix_B_cols):\n",
        "    curr_col = get_matrix_column(j, matrix_B)\n",
        "    sum = 0\n",
        "    for k in range(len(curr_row)):\n",
        "      sum += (curr_row[k]*curr_col[k])\n",
        "    matrix_c[i][j] = sum\n",
        "\n",
        "print(matrix_c)\n",
        "\n",
        "print(get_matrix_column(0, matrix_B))\n",
        "print(get_matrix_column(1, matrix_B))\n",
        "\n",
        "print(np.dot(matrix_A, matrix_B))\n",
        "\n"
      ],
      "metadata": {
        "colab": {
          "base_uri": "https://localhost:8080/"
        },
        "id": "AMVLXNYcyFLm",
        "outputId": "af773071-3d0c-44fd-9844-be3e4f96943f"
      },
      "execution_count": 33,
      "outputs": [
        {
          "output_type": "stream",
          "name": "stdout",
          "text": [
            "[[0, 0, 0, 0], [0, 0, 0, 0]]\n",
            "[[15, 18, 21, 24], [15, 18, 21, 24]]\n",
            "[1, 5, 9]\n",
            "[2, 6, 10]\n",
            "[[15 18 21 24]\n",
            " [15 18 21 24]]\n"
          ]
        }
      ]
    },
    {
      "cell_type": "code",
      "source": [],
      "metadata": {
        "id": "phgBp0Cl3GFz"
      },
      "execution_count": null,
      "outputs": []
    }
  ]
}